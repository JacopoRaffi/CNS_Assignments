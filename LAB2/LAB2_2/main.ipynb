{
 "cells": [
  {
   "cell_type": "markdown",
   "metadata": {},
   "source": [
    "# Assignment 2_2: Hopfield Network"
   ]
  },
  {
   "cell_type": "code",
   "execution_count": null,
   "metadata": {},
   "outputs": [],
   "source": [
    "import pandas as pd\n",
    "import numpy as np\n",
    "import matplotlib.pyplot as plt\n",
    "\n",
    "from utility import *\n",
    "from hopfield import HopfieldNetwork"
   ]
  },
  {
   "cell_type": "code",
   "execution_count": null,
   "metadata": {},
   "outputs": [],
   "source": [
    "p0 = reshape_vector_to_image('p0.csv')\n",
    "p1 = reshape_vector_to_image('p1.csv')\n",
    "p2 = reshape_vector_to_image('p2.csv')\n",
    "\n",
    "data = np.array([p0.reshape(-1), p1.reshape(-1), p2.reshape(-1)])\n",
    "net = HopfieldNetwork(data)"
   ]
  },
  {
   "cell_type": "code",
   "execution_count": null,
   "metadata": {},
   "outputs": [],
   "source": [
    "fig, axs = plt.subplots(1, 3, figsize=(15, 5))\n",
    "\n",
    "fig.suptitle('Original Patterns')\n",
    "\n",
    "axs[0].imshow(p0, cmap='gray')\n",
    "axs[1].imshow(p1, cmap='gray')\n",
    "axs[2].imshow(p2, cmap='gray')"
   ]
  },
  {
   "cell_type": "markdown",
   "metadata": {},
   "source": [
    "## Digit: 0"
   ]
  },
  {
   "cell_type": "code",
   "execution_count": null,
   "metadata": {},
   "outputs": [],
   "source": [
    "# compute the 2 noisy images\n",
    "p0_05 = distort_image(p0, 0.05)\n",
    "p0_10 = distort_image(p0, 0.10)\n",
    "p0_25 = distort_image(p0, 0.25)"
   ]
  },
  {
   "cell_type": "code",
   "execution_count": null,
   "metadata": {},
   "outputs": [],
   "source": [
    "p0_05_retrieved, e05_history, o05_history = net(p0_05.reshape(-1), true_pattern=p0.reshape(-1), history=True)\n",
    "p0_10_retrieved, e10_history, o10_history = net(p0_10.reshape(-1), true_pattern=p0.reshape(-1), history=True)\n",
    "p0_25_retrieved, e25_history, o25_history = net(p0_25.reshape(-1), true_pattern=p0.reshape(-1), history=True)"
   ]
  },
  {
   "cell_type": "code",
   "execution_count": null,
   "metadata": {},
   "outputs": [],
   "source": [
    "plot_images(p0, p0_05, p0_05_retrieved.reshape(p0.shape), noise=0.05)\n",
    "plot_images(p0, p0_10, p0_10_retrieved.reshape(p0.shape), noise=0.10)\n",
    "plot_images(p0, p0_25, p0_25_retrieved.reshape(p0.shape), noise=0.25)"
   ]
  },
  {
   "cell_type": "code",
   "execution_count": null,
   "metadata": {},
   "outputs": [],
   "source": [
    "plot_history(e05_history, o05_history, noise=0.05)\n",
    "plot_history(e10_history, o10_history, noise=0.10)\n",
    "plot_history(e25_history, o25_history, noise=0.25)"
   ]
  },
  {
   "cell_type": "markdown",
   "metadata": {},
   "source": [
    "## Digit: 1"
   ]
  },
  {
   "cell_type": "code",
   "execution_count": null,
   "metadata": {},
   "outputs": [],
   "source": [
    "# compute the 2 noisy images\n",
    "p1_05 = distort_image(p1, 0.05)\n",
    "p1_10 = distort_image(p1, 0.10)\n",
    "p1_25 = distort_image(p1, 0.25)"
   ]
  },
  {
   "cell_type": "code",
   "execution_count": null,
   "metadata": {},
   "outputs": [],
   "source": [
    "p1_05_retrieved, e05_history, o05_history = net(p1_05.reshape(-1), true_pattern=p1.reshape(-1), history=True)\n",
    "p1_10_retrieved, e10_history, o10_history = net(p1_10.reshape(-1), true_pattern=p1.reshape(-1), history=True)\n",
    "p1_25_retrieved, e25_history, o25_history = net(p1_25.reshape(-1), true_pattern=p1.reshape(-1), history=True)"
   ]
  },
  {
   "cell_type": "code",
   "execution_count": null,
   "metadata": {},
   "outputs": [],
   "source": [
    "plot_images(p1, p1_05, p1_05_retrieved.reshape(p0.shape), noise=0.05)\n",
    "plot_images(p1, p1_10, p1_10_retrieved.reshape(p0.shape), noise=0.10)\n",
    "plot_images(p1, p1_25, p1_25_retrieved.reshape(p0.shape), noise=0.25)"
   ]
  },
  {
   "cell_type": "code",
   "execution_count": null,
   "metadata": {},
   "outputs": [],
   "source": [
    "plot_history(e05_history, o05_history, noise=0.05)\n",
    "plot_history(e10_history, o10_history, noise=0.10)\n",
    "plot_history(e25_history, o25_history, noise=0.25)"
   ]
  },
  {
   "cell_type": "markdown",
   "metadata": {},
   "source": [
    "## Digit: 2"
   ]
  }
 ],
 "metadata": {
  "kernelspec": {
   "display_name": "cns",
   "language": "python",
   "name": "python3"
  },
  "language_info": {
   "codemirror_mode": {
    "name": "ipython",
    "version": 3
   },
   "file_extension": ".py",
   "mimetype": "text/x-python",
   "name": "python",
   "nbconvert_exporter": "python",
   "pygments_lexer": "ipython3",
   "version": "3.10.12"
  }
 },
 "nbformat": 4,
 "nbformat_minor": 2
}
