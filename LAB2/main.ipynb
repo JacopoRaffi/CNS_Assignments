{
 "cells": [
  {
   "cell_type": "code",
   "execution_count": 454,
   "metadata": {},
   "outputs": [],
   "source": [
    "import pandas as pd\n",
    "import numpy as np\n",
    "import matplotlib.pyplot as plt"
   ]
  },
  {
   "cell_type": "code",
   "execution_count": 455,
   "metadata": {},
   "outputs": [],
   "source": [
    "data_df = pd.read_csv(\"./data/lab2_1_data.csv\", header=None)\n"
   ]
  },
  {
   "cell_type": "code",
   "execution_count": 456,
   "metadata": {},
   "outputs": [
    {
     "data": {
      "text/html": [
       "<div>\n",
       "<style scoped>\n",
       "    .dataframe tbody tr th:only-of-type {\n",
       "        vertical-align: middle;\n",
       "    }\n",
       "\n",
       "    .dataframe tbody tr th {\n",
       "        vertical-align: top;\n",
       "    }\n",
       "\n",
       "    .dataframe thead th {\n",
       "        text-align: right;\n",
       "    }\n",
       "</style>\n",
       "<table border=\"1\" class=\"dataframe\">\n",
       "  <thead>\n",
       "    <tr style=\"text-align: right;\">\n",
       "      <th></th>\n",
       "      <th>0</th>\n",
       "      <th>1</th>\n",
       "      <th>2</th>\n",
       "      <th>3</th>\n",
       "      <th>4</th>\n",
       "      <th>5</th>\n",
       "      <th>6</th>\n",
       "      <th>7</th>\n",
       "      <th>8</th>\n",
       "      <th>9</th>\n",
       "      <th>...</th>\n",
       "      <th>90</th>\n",
       "      <th>91</th>\n",
       "      <th>92</th>\n",
       "      <th>93</th>\n",
       "      <th>94</th>\n",
       "      <th>95</th>\n",
       "      <th>96</th>\n",
       "      <th>97</th>\n",
       "      <th>98</th>\n",
       "      <th>99</th>\n",
       "    </tr>\n",
       "  </thead>\n",
       "  <tbody>\n",
       "    <tr>\n",
       "      <th>0</th>\n",
       "      <td>0.74589</td>\n",
       "      <td>0.43352</td>\n",
       "      <td>0.34667</td>\n",
       "      <td>0.43563</td>\n",
       "      <td>0.87224</td>\n",
       "      <td>0.91057</td>\n",
       "      <td>0.53584</td>\n",
       "      <td>0.34912</td>\n",
       "      <td>0.54057</td>\n",
       "      <td>0.46997</td>\n",
       "      <td>...</td>\n",
       "      <td>-0.10911</td>\n",
       "      <td>-0.28669</td>\n",
       "      <td>-0.78850</td>\n",
       "      <td>-0.92342</td>\n",
       "      <td>-0.72261</td>\n",
       "      <td>-0.68034</td>\n",
       "      <td>-0.95553</td>\n",
       "      <td>-0.21214</td>\n",
       "      <td>-0.503930</td>\n",
       "      <td>-0.92196</td>\n",
       "    </tr>\n",
       "    <tr>\n",
       "      <th>1</th>\n",
       "      <td>-0.43265</td>\n",
       "      <td>-0.53858</td>\n",
       "      <td>-0.35825</td>\n",
       "      <td>-0.95307</td>\n",
       "      <td>-0.59757</td>\n",
       "      <td>-0.73190</td>\n",
       "      <td>-0.75979</td>\n",
       "      <td>-0.31302</td>\n",
       "      <td>-0.56459</td>\n",
       "      <td>-0.97972</td>\n",
       "      <td>...</td>\n",
       "      <td>0.65793</td>\n",
       "      <td>0.87399</td>\n",
       "      <td>0.78979</td>\n",
       "      <td>0.59957</td>\n",
       "      <td>0.85781</td>\n",
       "      <td>0.52850</td>\n",
       "      <td>1.09170</td>\n",
       "      <td>0.48182</td>\n",
       "      <td>0.026142</td>\n",
       "      <td>0.52301</td>\n",
       "    </tr>\n",
       "  </tbody>\n",
       "</table>\n",
       "<p>2 rows × 100 columns</p>\n",
       "</div>"
      ],
      "text/plain": [
       "        0        1        2        3        4        5        6        7   \\\n",
       "0  0.74589  0.43352  0.34667  0.43563  0.87224  0.91057  0.53584  0.34912   \n",
       "1 -0.43265 -0.53858 -0.35825 -0.95307 -0.59757 -0.73190 -0.75979 -0.31302   \n",
       "\n",
       "        8        9   ...       90       91       92       93       94  \\\n",
       "0  0.54057  0.46997  ... -0.10911 -0.28669 -0.78850 -0.92342 -0.72261   \n",
       "1 -0.56459 -0.97972  ...  0.65793  0.87399  0.78979  0.59957  0.85781   \n",
       "\n",
       "        95       96       97        98       99  \n",
       "0 -0.68034 -0.95553 -0.21214 -0.503930 -0.92196  \n",
       "1  0.52850  1.09170  0.48182  0.026142  0.52301  \n",
       "\n",
       "[2 rows x 100 columns]"
      ]
     },
     "execution_count": 456,
     "metadata": {},
     "output_type": "execute_result"
    }
   ],
   "source": [
    "data_df.head()"
   ]
  },
  {
   "cell_type": "code",
   "execution_count": 457,
   "metadata": {},
   "outputs": [],
   "source": [
    "data = data_df.transpose().to_numpy()"
   ]
  },
  {
   "cell_type": "code",
   "execution_count": 458,
   "metadata": {},
   "outputs": [
    {
     "data": {
      "text/plain": [
       "array([[ 0.74589  , -0.43265  ],\n",
       "       [ 0.43352  , -0.53858  ],\n",
       "       [ 0.34667  , -0.35825  ],\n",
       "       [ 0.43563  , -0.95307  ],\n",
       "       [ 0.87224  , -0.59757  ],\n",
       "       [ 0.91057  , -0.7319   ],\n",
       "       [ 0.53584  , -0.75979  ],\n",
       "       [ 0.34912  , -0.31302  ],\n",
       "       [ 0.54057  , -0.56459  ],\n",
       "       [ 0.46997  , -0.97972  ],\n",
       "       [ 0.70024  , -0.38539  ],\n",
       "       [ 0.77378  , -0.29958  ],\n",
       "       [ 0.82682  , -0.64523  ],\n",
       "       [ 0.14546  , -0.23598  ],\n",
       "       [ 0.68834  ,  0.28251  ],\n",
       "       [ 0.35971  , -0.10906  ],\n",
       "       [ 0.81554  , -0.74388  ],\n",
       "       [ 0.48447  , -0.79279  ],\n",
       "       [ 0.29453  , -0.70226  ],\n",
       "       [ 0.64096  , -0.2039   ],\n",
       "       [ 0.45428  , -0.53894  ],\n",
       "       [ 0.63494  , -0.40594  ],\n",
       "       [ 0.37933  , -0.12101  ],\n",
       "       [ 0.23349  , -0.51425  ],\n",
       "       [ 0.90886  , -0.57161  ],\n",
       "       [ 0.43876  , -0.16906  ],\n",
       "       [ 0.33963  , -0.66784  ],\n",
       "       [ 0.41841  , -0.61187  ],\n",
       "       [ 0.42219  , -0.42756  ],\n",
       "       [ 0.25524  , -0.59752  ],\n",
       "       [ 0.5083   , -0.81311  ],\n",
       "       [ 0.84596  , -0.31124  ],\n",
       "       [ 0.14035  , -0.92162  ],\n",
       "       [ 0.39587  , -1.0015   ],\n",
       "       [ 0.63698  , -0.75599  ],\n",
       "       [ 0.3541   , -0.47215  ],\n",
       "       [ 0.68447  ,  0.015025 ],\n",
       "       [ 0.33946  , -0.43013  ],\n",
       "       [ 0.55213  , -0.54293  ],\n",
       "       [ 0.79272  ,  0.093924 ],\n",
       "       [ 0.63809  , -0.27612  ],\n",
       "       [-0.0045443, -0.46469  ],\n",
       "       [ 0.58915  , -0.41268  ],\n",
       "       [ 0.71341  , -0.56193  ],\n",
       "       [ 0.11595  , -0.4506   ],\n",
       "       [ 0.40112  , -0.74893  ],\n",
       "       [ 0.42337  , -0.48164  ],\n",
       "       [ 0.58805  , -0.66354  ],\n",
       "       [ 0.49308  , -0.43842  ],\n",
       "       [ 0.85059  , -0.61562  ],\n",
       "       [-0.35406  ,  0.41096  ],\n",
       "       [-0.50244  ,  0.19122  ],\n",
       "       [-0.62183  ,  0.85474  ],\n",
       "       [-0.605    ,  0.10631  ],\n",
       "       [-0.95938  ,  0.16336  ],\n",
       "       [-0.72244  ,  0.18432  ],\n",
       "       [-0.49166  ,  0.49461  ],\n",
       "       [-0.37627  ,  0.35247  ],\n",
       "       [-0.82959  ,  0.54082  ],\n",
       "       [-0.64601  ,  0.79243  ],\n",
       "       [-0.37979  ,  0.61942  ],\n",
       "       [-0.61365  ,  0.80262  ],\n",
       "       [-0.9602   ,  0.3079   ],\n",
       "       [ 0.077495 , -0.1627   ],\n",
       "       [-0.26028  ,  0.1493   ],\n",
       "       [-0.71718  ,  0.51303  ],\n",
       "       [-0.94404  ,  0.57063  ],\n",
       "       [-0.41195  ,  0.073505 ],\n",
       "       [-0.71242  ,  0.8199   ],\n",
       "       [-0.62871  ,  0.15269  ],\n",
       "       [-0.10829  ,  0.46647  ],\n",
       "       [-0.56198  ,  0.14357  ],\n",
       "       [-0.19394  ,  0.79685  ],\n",
       "       [-0.51006  ,  0.39772  ],\n",
       "       [-0.23111  ,  0.53552  ],\n",
       "       [-0.42031  ,  0.41407  ],\n",
       "       [-0.61111  ,  0.50424  ],\n",
       "       [-0.11318  ,  0.73188  ],\n",
       "       [-0.26898  ,  0.52203  ],\n",
       "       [-0.30653  ,  0.98443  ],\n",
       "       [-0.79637  ,  0.70245  ],\n",
       "       [-0.39849  ,  0.77622  ],\n",
       "       [-0.38828  ,  0.39109  ],\n",
       "       [-0.2898   ,  0.67304  ],\n",
       "       [-0.61434  ,  0.67446  ],\n",
       "       [-0.67626  ,  0.32924  ],\n",
       "       [-0.24658  ,  0.42167  ],\n",
       "       [-0.20601  ,  0.43985  ],\n",
       "       [-0.51318  ,  0.58406  ],\n",
       "       [-0.69516  ,  0.087493 ],\n",
       "       [-0.10911  ,  0.65793  ],\n",
       "       [-0.28669  ,  0.87399  ],\n",
       "       [-0.7885   ,  0.78979  ],\n",
       "       [-0.92342  ,  0.59957  ],\n",
       "       [-0.72261  ,  0.85781  ],\n",
       "       [-0.68034  ,  0.5285   ],\n",
       "       [-0.95553  ,  1.0917   ],\n",
       "       [-0.21214  ,  0.48182  ],\n",
       "       [-0.50393  ,  0.026142 ],\n",
       "       [-0.92196  ,  0.52301  ]])"
      ]
     },
     "execution_count": 458,
     "metadata": {},
     "output_type": "execute_result"
    }
   ],
   "source": [
    "data"
   ]
  },
  {
   "cell_type": "code",
   "execution_count": 459,
   "metadata": {},
   "outputs": [],
   "source": [
    "RANDOM_STATE = 42\n",
    "rand_gen = np.random.default_rng(RANDOM_STATE)\n",
    "\n",
    "\n",
    "max_epochs = 10000\n",
    "epoch = 0\n",
    "norm_distance = np.inf\n",
    "threshold = 1e-8\n",
    "eta = 0.00001\n",
    "w = rand_gen.uniform(-1, 1, 2) # input is 2-dimension"
   ]
  },
  {
   "cell_type": "code",
   "execution_count": 460,
   "metadata": {},
   "outputs": [
    {
     "data": {
      "text/plain": [
       "array([ 0.5479121 , -0.12224312])"
      ]
     },
     "execution_count": 460,
     "metadata": {},
     "output_type": "execute_result"
    }
   ],
   "source": [
    "w"
   ]
  },
  {
   "cell_type": "code",
   "execution_count": 461,
   "metadata": {},
   "outputs": [],
   "source": [
    "while (epoch < max_epochs) and (norm_distance > threshold):\n",
    "    np.random.shuffle(data) # shuffle data at each epoch\n",
    "    w_old = w.copy() # copy the old wiehts to compare with the new using the norm2\n",
    "\n",
    "    for u in data:\n",
    "        v = np.inner(w, u) # compute output v\n",
    "        delta_w = (eta * v * u) # compute the delta W\n",
    "        w = w + delta_w # update the weights\n",
    "    \n",
    "    norm_distance = np.linalg.norm(w_old - w)\n",
    "    epoch += 1\n",
    "    "
   ]
  },
  {
   "cell_type": "code",
   "execution_count": 462,
   "metadata": {},
   "outputs": [
    {
     "data": {
      "text/plain": [
       "10000"
      ]
     },
     "execution_count": 462,
     "metadata": {},
     "output_type": "execute_result"
    }
   ],
   "source": [
    "epoch"
   ]
  },
  {
   "cell_type": "code",
   "execution_count": 463,
   "metadata": {},
   "outputs": [
    {
     "data": {
      "text/plain": [
       "0.09437663152537039"
      ]
     },
     "execution_count": 463,
     "metadata": {},
     "output_type": "execute_result"
    }
   ],
   "source": [
    "norm_distance"
   ]
  },
  {
   "cell_type": "code",
   "execution_count": 464,
   "metadata": {},
   "outputs": [
    {
     "data": {
      "text/plain": [
       "array([ 115.40815454, -113.55061505])"
      ]
     },
     "execution_count": 464,
     "metadata": {},
     "output_type": "execute_result"
    }
   ],
   "source": [
    "w"
   ]
  },
  {
   "cell_type": "code",
   "execution_count": 465,
   "metadata": {},
   "outputs": [],
   "source": [
    "Q = np.corrcoef(np.transpose(data))"
   ]
  },
  {
   "cell_type": "code",
   "execution_count": 466,
   "metadata": {},
   "outputs": [],
   "source": [
    "eigval, eigvec = np.linalg.eig(Q)"
   ]
  },
  {
   "cell_type": "code",
   "execution_count": 467,
   "metadata": {},
   "outputs": [
    {
     "data": {
      "text/plain": [
       "array([1.79945262, 0.20054738])"
      ]
     },
     "execution_count": 467,
     "metadata": {},
     "output_type": "execute_result"
    }
   ],
   "source": [
    "eigval"
   ]
  },
  {
   "cell_type": "code",
   "execution_count": 468,
   "metadata": {},
   "outputs": [
    {
     "data": {
      "text/plain": [
       "0"
      ]
     },
     "execution_count": 468,
     "metadata": {},
     "output_type": "execute_result"
    }
   ],
   "source": [
    "i_max_eigval = np.argmax(eigval)\n",
    "\n",
    "i_max_eigval"
   ]
  },
  {
   "cell_type": "code",
   "execution_count": 469,
   "metadata": {},
   "outputs": [
    {
     "data": {
      "text/plain": [
       "0.7071067811865475"
      ]
     },
     "execution_count": 469,
     "metadata": {},
     "output_type": "execute_result"
    }
   ],
   "source": [
    "eigvec[:, 0][0]"
   ]
  },
  {
   "cell_type": "code",
   "execution_count": 470,
   "metadata": {},
   "outputs": [
    {
     "data": {
      "image/png": "[encoded data removed]",
      "text/plain": [
       "<Figure size 640x480 with 1 Axes>"
      ]
     },
     "metadata": {},
     "output_type": "display_data"
    }
   ],
   "source": [
    "plt.scatter(data[:, 0], data[:, 1])\n",
    "origin = np.array([0,0])\n",
    "plt.quiver(*origin, w[0], w[1], color='g')\n",
    "plt.quiver(*origin, eigvec[:, i_max_eigval][0], eigvec[:, i_max_eigval][1],  color='r', scale=10)\n",
    "plt.show()"
   ]
  }
 ],
 "metadata": {
  "kernelspec": {
   "display_name": "cns",
   "language": "python",
   "name": "python3"
  },
  "language_info": {
   "codemirror_mode": {
    "name": "ipython",
    "version": 3
   },
   "file_extension": ".py",
   "mimetype": "text/x-python",
   "name": "python",
   "nbconvert_exporter": "python",
   "pygments_lexer": "ipython3",
   "version": "3.10.12"
  }
 },
 "nbformat": 4,
 "nbformat_minor": 2
}
