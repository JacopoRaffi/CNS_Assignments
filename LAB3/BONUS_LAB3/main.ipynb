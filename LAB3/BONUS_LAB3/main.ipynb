{
 "cells": [
  {
   "cell_type": "code",
   "execution_count": 44,
   "metadata": {},
   "outputs": [],
   "source": [
    "import torch \n",
    "import math\n",
    "import torch.nn as nn\n",
    "import torch.nn.functional as F\n",
    "\n",
    "device = 'cuda' if torch.cuda.is_available() else 'cpu'"
   ]
  },
  {
   "cell_type": "code",
   "execution_count": 45,
   "metadata": {},
   "outputs": [
    {
     "data": {
      "text/plain": [
       "938287"
      ]
     },
     "execution_count": 45,
     "metadata": {},
     "output_type": "execute_result"
    }
   ],
   "source": [
    "text = open('lotr1.txt', 'r').read().lower()\n",
    "text = text.replace('\\xa0', ' ')\n",
    "len(text)"
   ]
  },
  {
   "cell_type": "code",
   "execution_count": 46,
   "metadata": {},
   "outputs": [],
   "source": [
    "char_to_idx = {char: idx for (idx, char) in enumerate(list(set(text)))}\n",
    "idx_to_char = {idx: char for (char, idx) in char_to_idx.items()}\n",
    "one_hot_size = len(char_to_idx)"
   ]
  },
  {
   "cell_type": "code",
   "execution_count": 70,
   "metadata": {},
   "outputs": [],
   "source": [
    "class OneHotDataset:\n",
    "    def __init__(self, seq_len, chr_step, text, char_to_idx):\n",
    "        sequences = []\n",
    "        next_chars = []\n",
    "\n",
    "        for i in range(0, len(text) - seq_len, chr_step):\n",
    "            sequences.append(text[i:i+seq_len]) # input sequence\n",
    "            next_chars.append(text[i+seq_len]) # char to predict\n",
    "        \n",
    "        self.x = torch.zeros(len(sequences), seq_len, one_hot_size, dtype=torch.bool).to(device) # shape (L, N ,D)\n",
    "        self.y = torch.zeros(len(sequences), dtype=torch.bool).to(device)\n",
    "\n",
    "        for i, sentence in enumerate(sequences):\n",
    "            for t, char in enumerate(sentence):\n",
    "                self.x[i, t, char_to_idx[char]] = 1\n",
    "            self.y[i] = char_to_idx[next_chars[i]]\n",
    "\n",
    "    def __getitem__(self, idx):\n",
    "        return self.x[idx, :, :], self.y[idx]\n",
    "\n",
    "    def __len__(self):\n",
    "        return self.y.shape[0]\n",
    "\n",
    "data = OneHotDataset(50, 4, text, char_to_idx)"
   ]
  },
  {
   "cell_type": "code",
   "execution_count": 71,
   "metadata": {},
   "outputs": [
    {
     "data": {
      "text/plain": [
       "torch.Size([50, 60])"
      ]
     },
     "execution_count": 71,
     "metadata": {},
     "output_type": "execute_result"
    }
   ],
   "source": [
    "x, _ = data[1]\n",
    "x.shape"
   ]
  },
  {
   "cell_type": "code",
   "execution_count": 75,
   "metadata": {},
   "outputs": [
    {
     "name": "stdout",
     "output_type": "stream",
     "text": [
      "torch.Size([50, 32, 60])\n"
     ]
    }
   ],
   "source": [
    "loader = torch.utils.data.DataLoader(data, batch_size=32)\n",
    "\n",
    "for x, y in loader:\n",
    "    print(x.transpose(0, 1).shape)\n",
    "    break"
   ]
  }
 ],
 "metadata": {
  "kernelspec": {
   "display_name": "cns",
   "language": "python",
   "name": "python3"
  },
  "language_info": {
   "codemirror_mode": {
    "name": "ipython",
    "version": 3
   },
   "file_extension": ".py",
   "mimetype": "text/x-python",
   "name": "python",
   "nbconvert_exporter": "python",
   "pygments_lexer": "ipython3",
   "version": "3.10.12"
  }
 },
 "nbformat": 4,
 "nbformat_minor": 2
}
