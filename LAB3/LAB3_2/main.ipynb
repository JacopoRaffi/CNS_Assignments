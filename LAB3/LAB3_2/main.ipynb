{
 "cells": [
  {
   "cell_type": "markdown",
   "metadata": {},
   "source": [
    "# Assignment 3_2: Echo State Networks"
   ]
  },
  {
   "cell_type": "code",
   "execution_count": 100,
   "metadata": {},
   "outputs": [
    {
     "data": {
      "text/plain": [
       "'cuda'"
      ]
     },
     "execution_count": 100,
     "metadata": {},
     "output_type": "execute_result"
    }
   ],
   "source": [
    "import pandas as pd\n",
    "import numpy as np\n",
    "from sklearn.linear_model import Ridge\n",
    "import matplotlib.pyplot as plt\n",
    "import torch\n",
    "import torch.utils.data as data\n",
    "import torch.nn.functional as F\n",
    "import torch.optim as optim\n",
    "\n",
    "from esn import *\n",
    "\n",
    "device = 'cuda' if torch.cuda.is_available() else 'cpu'\n",
    "device"
   ]
  },
  {
   "cell_type": "code",
   "execution_count": 101,
   "metadata": {},
   "outputs": [
    {
     "data": {
      "text/html": [
       "<div>\n",
       "<style scoped>\n",
       "    .dataframe tbody tr th:only-of-type {\n",
       "        vertical-align: middle;\n",
       "    }\n",
       "\n",
       "    .dataframe tbody tr th {\n",
       "        vertical-align: top;\n",
       "    }\n",
       "\n",
       "    .dataframe thead th {\n",
       "        text-align: right;\n",
       "    }\n",
       "</style>\n",
       "<table border=\"1\" class=\"dataframe\">\n",
       "  <thead>\n",
       "    <tr style=\"text-align: right;\">\n",
       "      <th></th>\n",
       "      <th>0</th>\n",
       "      <th>1</th>\n",
       "      <th>2</th>\n",
       "      <th>3</th>\n",
       "      <th>4</th>\n",
       "      <th>5</th>\n",
       "      <th>6</th>\n",
       "      <th>7</th>\n",
       "      <th>8</th>\n",
       "      <th>9</th>\n",
       "      <th>10</th>\n",
       "      <th>11</th>\n",
       "      <th>12</th>\n",
       "      <th>13</th>\n",
       "      <th>14</th>\n",
       "      <th>15</th>\n",
       "      <th>16</th>\n",
       "      <th>17</th>\n",
       "      <th>18</th>\n",
       "      <th>19</th>\n",
       "    </tr>\n",
       "  </thead>\n",
       "  <tbody>\n",
       "    <tr>\n",
       "      <th>0</th>\n",
       "      <td>0.083964</td>\n",
       "      <td>0.48934</td>\n",
       "      <td>0.35635</td>\n",
       "      <td>0.25024</td>\n",
       "      <td>0.23554</td>\n",
       "      <td>0.029809</td>\n",
       "      <td>0.34099</td>\n",
       "      <td>0.021216</td>\n",
       "      <td>0.035723</td>\n",
       "      <td>0.26082</td>\n",
       "      <td>0.048365</td>\n",
       "      <td>0.40907</td>\n",
       "      <td>0.40877</td>\n",
       "      <td>0.36122</td>\n",
       "      <td>0.074933</td>\n",
       "      <td>0.32980</td>\n",
       "      <td>0.25930</td>\n",
       "      <td>0.48649</td>\n",
       "      <td>0.32450</td>\n",
       "      <td>0.40017</td>\n",
       "    </tr>\n",
       "    <tr>\n",
       "      <th>1</th>\n",
       "      <td>0.000000</td>\n",
       "      <td>0.00000</td>\n",
       "      <td>0.00000</td>\n",
       "      <td>0.00000</td>\n",
       "      <td>0.00000</td>\n",
       "      <td>0.000000</td>\n",
       "      <td>0.00000</td>\n",
       "      <td>0.000000</td>\n",
       "      <td>0.000000</td>\n",
       "      <td>0.00000</td>\n",
       "      <td>0.132850</td>\n",
       "      <td>0.17536</td>\n",
       "      <td>0.37127</td>\n",
       "      <td>0.36481</td>\n",
       "      <td>0.337070</td>\n",
       "      <td>0.20447</td>\n",
       "      <td>0.33003</td>\n",
       "      <td>0.20726</td>\n",
       "      <td>0.18825</td>\n",
       "      <td>0.28343</td>\n",
       "    </tr>\n",
       "  </tbody>\n",
       "</table>\n",
       "</div>"
      ],
      "text/plain": [
       "         0        1        2        3        4         5        6         7   \\\n",
       "0  0.083964  0.48934  0.35635  0.25024  0.23554  0.029809  0.34099  0.021216   \n",
       "1  0.000000  0.00000  0.00000  0.00000  0.00000  0.000000  0.00000  0.000000   \n",
       "\n",
       "         8        9         10       11       12       13        14       15  \\\n",
       "0  0.035723  0.26082  0.048365  0.40907  0.40877  0.36122  0.074933  0.32980   \n",
       "1  0.000000  0.00000  0.132850  0.17536  0.37127  0.36481  0.337070  0.20447   \n",
       "\n",
       "        16       17       18       19  \n",
       "0  0.25930  0.48649  0.32450  0.40017  \n",
       "1  0.33003  0.20726  0.18825  0.28343  "
      ]
     },
     "execution_count": 101,
     "metadata": {},
     "output_type": "execute_result"
    }
   ],
   "source": [
    "narma_df = pd.read_csv('../NARMA10.csv', header=None)\n",
    "narma_df.iloc[:, :20] # visualize the first 20 columns"
   ]
  },
  {
   "cell_type": "code",
   "execution_count": 102,
   "metadata": {},
   "outputs": [],
   "source": [
    "x_data = torch.tensor(narma_df.iloc[0].values, dtype=torch.float32) # float 32 for better memory efficiency\n",
    "y_data = torch.tensor(narma_df.iloc[1].values, dtype=torch.float32)\n",
    "\n",
    "# 4000 tr, 1000 val, 5000 test (WARNING: load entire dataset in memory ONLY because it is small and also the NN is quite small)\n",
    "dev_x, dev_y = x_data[:5000], y_data[:5000] # only used for retraining (train + val sets)\n",
    "\n",
    "test_x, test_y = x_data[5000:], y_data[5000:]\n",
    "\n",
    "train_x, val_x = dev_x[:4000], dev_x[4000:]\n",
    "train_y, val_y = dev_y[:4000], dev_y[4000:]"
   ]
  },
  {
   "cell_type": "code",
   "execution_count": 121,
   "metadata": {},
   "outputs": [],
   "source": [
    "class RegressorESN(nn.Module):\n",
    "    def __init__(self, input_size:int, hidden_size:int, output_size:int, ridge_regression:float, \n",
    "                 omhega_in:float, omhega_b:float, rho:float, density:float = 1):\n",
    "        \n",
    "        super(RegressorESN, self).__init__()\n",
    "        \n",
    "        self.reservoir = Reservoir(input_size, hidden_size, omhega_in, omhega_b, rho, density)\n",
    "        self.readout = Ridge(alpha=ridge_regression) # linear ridge regression of scikit-learn\n",
    "        self.states = None\n",
    "    \n",
    "    def fit(self, input:torch.Tensor, target:torch.Tensor, washout:int = 0):\n",
    "        states = self.reservoir(input, h_init=None, washout=washout)\n",
    "        states = states.squeeze(1)\n",
    "        self.readout.fit(states, target)\n",
    "\n",
    "        self.states = states\n",
    "        return states[-1] # return last state\n",
    "\n",
    "    @torch.no_grad()\n",
    "    def forward(self, input:torch.Tensor, h_init:torch.Tensor, washout:int = 0):\n",
    "        if self.training: # avoid to recompute states\n",
    "            states = self.states # states already computed during fitting\n",
    "        else:\n",
    "            states = self.reservoir(input, h_init=h_init, washout=washout).squeeze(1)\n",
    "\n",
    "        return torch.from_numpy(self.readout.predict(states))"
   ]
  },
  {
   "cell_type": "code",
   "execution_count": 122,
   "metadata": {},
   "outputs": [],
   "source": [
    "esn = RegressorESN(1, 3, 1, 1e-6, 0.1, 0.1, 0.9, 1)"
   ]
  },
  {
   "cell_type": "code",
   "execution_count": 106,
   "metadata": {},
   "outputs": [
    {
     "data": {
      "text/plain": [
       "torch.Size([4000, 1, 1])"
      ]
     },
     "execution_count": 106,
     "metadata": {},
     "output_type": "execute_result"
    }
   ],
   "source": [
    "train_x = train_x.unsqueeze(1).unsqueeze(1)\n",
    "train_x.shape"
   ]
  },
  {
   "cell_type": "code",
   "execution_count": 110,
   "metadata": {},
   "outputs": [
    {
     "data": {
      "text/plain": [
       "tensor([0.0000, 0.0000, 0.0000,  ..., 0.1929, 0.4833, 0.3957])"
      ]
     },
     "execution_count": 110,
     "metadata": {},
     "output_type": "execute_result"
    }
   ],
   "source": [
    "l = torch.nn.L1Loss()\n",
    "train_y"
   ]
  },
  {
   "cell_type": "code",
   "execution_count": 125,
   "metadata": {},
   "outputs": [
    {
     "data": {
      "text/plain": [
       "tensor([[0.0000, 0.0000, 0.0000,  ..., 0.1929, 0.4833, 0.3957]])"
      ]
     },
     "execution_count": 125,
     "metadata": {},
     "output_type": "execute_result"
    }
   ],
   "source": [
    "esn.fit(train_x, train_y)\n",
    "\n",
    "train_y.unsqueeze(0)"
   ]
  }
 ],
 "metadata": {
  "kernelspec": {
   "display_name": "cns",
   "language": "python",
   "name": "python3"
  },
  "language_info": {
   "codemirror_mode": {
    "name": "ipython",
    "version": 3
   },
   "file_extension": ".py",
   "mimetype": "text/x-python",
   "name": "python",
   "nbconvert_exporter": "python",
   "pygments_lexer": "ipython3",
   "version": "3.10.12"
  }
 },
 "nbformat": 4,
 "nbformat_minor": 2
}
