{
 "cells": [
  {
   "cell_type": "code",
   "execution_count": null,
   "metadata": {},
   "outputs": [],
   "source": [
    "import pandas as pd\n",
    "import numpy as np\n",
    "import matplotlib.pyplot as plt\n",
    "import torch\n",
    "import torch.utils.data as data\n",
    "import torch.nn.functional as F\n",
    "import torch.optim as optim\n",
    "\n",
    "from models import *\n",
    "from learning import *\n",
    "\n",
    "device = 'cuda' if torch.cuda.is_available() else 'cpu'"
   ]
  },
  {
   "cell_type": "code",
   "execution_count": null,
   "metadata": {},
   "outputs": [],
   "source": [
    "narma_df = pd.read_csv('../NARMA10.csv', header=None)\n",
    "narma_df.iloc[:, :20] # visualize the first 20 columns"
   ]
  },
  {
   "cell_type": "code",
   "execution_count": null,
   "metadata": {},
   "outputs": [],
   "source": [
    "x_data = torch.tensor(narma_df.iloc[0].values, dtype=torch.float32) # float 32 for better memory efficiency\n",
    "y_data = torch.tensor(narma_df.iloc[1].values, dtype=torch.float32)\n",
    "\n",
    "# 4000 tr, 1000 val, 5000 test\n",
    "train_x, test_x = x_data[:5000], x_data[5000:]\n",
    "train_y, test_y = y_data[:5000], y_data[5000:]\n",
    "\n",
    "train_x, val_x = train_x[:4000], train_x[4000:]\n",
    "train_y, val_y = train_y[:4000], train_y[4000:]"
   ]
  },
  {
   "cell_type": "code",
   "execution_count": null,
   "metadata": {},
   "outputs": [],
   "source": [
    "window_size = 30\n",
    "\n",
    "train_data = SequenceDataset(train_x, train_y, window_size)\n",
    "train_loader = data.DataLoader(train_data, batch_size=500, shuffle=False)\n",
    "\n",
    "val_data = SequenceDataset(val_x, val_y, window_size)\n",
    "val_loader = data.DataLoader(val_data, batch_size=len(val_data), shuffle=False)"
   ]
  },
  {
   "cell_type": "code",
   "execution_count": null,
   "metadata": {},
   "outputs": [],
   "source": [
    "# this code is just a try to see how to plot\n",
    "'''plt.plot(train_mse_history, label='Train MSE')\n",
    "plt.plot(val_mse_history, label='Val MSE')\n",
    "plt.legend()'''"
   ]
  },
  {
   "cell_type": "code",
   "execution_count": null,
   "metadata": {},
   "outputs": [],
   "source": [
    "# this code is just a try to see how to plot\n",
    "'''train_loader = data.DataLoader(train_data, batch_size=len(train_data), shuffle=False)\n",
    "plt.figure(figsize=(20, 10))\n",
    "for x, y in train_loader:\n",
    "    with torch.no_grad():\n",
    "        out = model(x)\n",
    "        plt.plot(y.cpu().numpy(), label='True')\n",
    "        plt.plot(out.cpu().numpy(), label='Predicted')\n",
    "        plt.legend()\n",
    "        plt.show()'''"
   ]
  }
 ],
 "metadata": {
  "kernelspec": {
   "display_name": "cns",
   "language": "python",
   "name": "python3"
  },
  "language_info": {
   "codemirror_mode": {
    "name": "ipython",
    "version": 3
   },
   "file_extension": ".py",
   "mimetype": "text/x-python",
   "name": "python",
   "nbconvert_exporter": "python",
   "pygments_lexer": "ipython3",
   "version": "3.10.12"
  }
 },
 "nbformat": 4,
 "nbformat_minor": 2
}
