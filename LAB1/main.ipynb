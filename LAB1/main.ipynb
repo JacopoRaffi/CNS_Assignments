{
 "cells": [
  {
   "cell_type": "markdown",
   "metadata": {},
   "source": [
    "# Assignment 1: Izhikevich’s model\n",
    "\n",
    "1. The assignment consists of the following points:\n",
    "\n",
    "2. Implement the Izhikevich’s model in Matlab\n",
    "Develop all the 20 neuro-computational features of biological neurons using the model developed at point 1) and plot: \n",
    "    - the resulting membrane potential’s time courses into individual figures (one figure for each neuro-computational feature);\n",
    "    - the phase portraits that correspond to each of the neuro-computational features (one figure for each neuro-computational feature)."
   ]
  },
  {
   "cell_type": "markdown",
   "metadata": {},
   "source": [
    "## Code\n"
   ]
  },
  {
   "cell_type": "code",
   "execution_count": null,
   "metadata": {},
   "outputs": [],
   "source": [
    "import numpy\n",
    "\n",
    "# functions 'f' and 'g' are written separated for the sake of code elegance\n",
    "\n",
    "def f(u:float, w:float, I:float):\n",
    "    # compute the derivative of the membrane potential\n",
    "\n",
    "    return 0.04 * (u**2) + 5*u + 140 - w + I\n",
    "\n",
    "def g(u:float, w:float, a:float, b:float):\n",
    "    # compute the derivative of the recovery variable\n",
    "\n",
    "    return a*(b*u - w)\n",
    "\n",
    "def Izhikevich(u:float, w:float, \n",
    "               a:float, b:float, c:float, d:float, \n",
    "               I:numpy.ndarray, time_steps:numpy.ndarray, h:float):\n",
    "    \n",
    "    '''\n",
    "        Set hyperparameters for SGD training\n",
    "\n",
    "        Parameter\n",
    "        ---------\n",
    "        u: float\n",
    "            current membrane potential value \n",
    "        w: float\n",
    "            current recovery variable value\n",
    "        a: float\n",
    "            time scale of the recovery variable\n",
    "        b: float\n",
    "            sensitivity of the recovery variable to flutuations of the membrane potential\n",
    "        c: float\n",
    "            after-spike reset value of the membrane potential\n",
    "        d: float\n",
    "            after-spike reset of the recovery variable\n",
    "        I: numpy array\n",
    "            values of the current input over time\n",
    "        time_steps: numpy array\n",
    "            the time steps to consider during the iteration\n",
    "        h: float\n",
    "            time step (used for the Leap-Frog method)\n",
    "\n",
    "        Returns\n",
    "        -------\n",
    "        return: the membrane potential and recovery variable values over time\n",
    "\n",
    "    '''\n",
    "\n",
    "    u_values = []\n",
    "    w_values = []\n",
    "\n",
    "    for i, _ in enumerate(time_steps):\n",
    "        # application of Leap-Forg method\n",
    "        u = u + h * f(u, w, I[i])\n",
    "        w = w + h * g(a, b, u, w)\n",
    "\n",
    "        if u >= 30:\n",
    "            u_values.append(30)\n",
    "            u = c\n",
    "            w = w + d\n",
    "        else:\n",
    "            u_values.append(u)\n",
    "\n",
    "        w_values.append(w)\n",
    "\n",
    "    return u_values, w_values"
   ]
  }
 ],
 "metadata": {
  "kernelspec": {
   "display_name": "Python 3",
   "language": "python",
   "name": "python3"
  },
  "language_info": {
   "name": "python",
   "version": "3.10.12"
  }
 },
 "nbformat": 4,
 "nbformat_minor": 2
}
