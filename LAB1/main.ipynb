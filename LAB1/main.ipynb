{
 "cells": [
  {
   "cell_type": "markdown",
   "metadata": {},
   "source": [
    "# Assignment 1: Izhikevich’s model\n",
    "\n",
    "1. The assignment consists of the following points:\n",
    "\n",
    "2. Implement the Izhikevich’s model in Matlab\n",
    "Develop all the 20 neuro-computational features of biological neurons using the model developed at point 1) and plot: \n",
    "    - the resulting membrane potential’s time courses into individual figures (one figure for each neuro-computational feature);\n",
    "    - the phase portraits that correspond to each of the neuro-computational features (one figure for each neuro-computational feature)."
   ]
  }
 ],
 "metadata": {
  "kernelspec": {
   "display_name": "Python 3",
   "language": "python",
   "name": "python3"
  },
  "language_info": {
   "name": "python",
   "version": "3.10.12"
  }
 },
 "nbformat": 4,
 "nbformat_minor": 2
}
